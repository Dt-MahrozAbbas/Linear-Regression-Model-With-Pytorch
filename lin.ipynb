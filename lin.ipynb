{
 "cells": [
  {
   "cell_type": "code",
   "execution_count": 3,
   "metadata": {},
   "outputs": [],
   "source": [
    "import torch \n",
    "from torch import nn\n",
    "from sklearn.model_selection import train_test_split\n",
    "from sklearn.preprocessing import StandardScaler\n",
    "import pandas as pd "
   ]
  },
  {
   "cell_type": "code",
   "execution_count": 4,
   "metadata": {},
   "outputs": [
    {
     "data": {
      "text/html": [
       "<div>\n",
       "<style scoped>\n",
       "    .dataframe tbody tr th:only-of-type {\n",
       "        vertical-align: middle;\n",
       "    }\n",
       "\n",
       "    .dataframe tbody tr th {\n",
       "        vertical-align: top;\n",
       "    }\n",
       "\n",
       "    .dataframe thead th {\n",
       "        text-align: right;\n",
       "    }\n",
       "</style>\n",
       "<table border=\"1\" class=\"dataframe\">\n",
       "  <thead>\n",
       "    <tr style=\"text-align: right;\">\n",
       "      <th></th>\n",
       "      <th>YearsExperience</th>\n",
       "      <th>Salary</th>\n",
       "    </tr>\n",
       "  </thead>\n",
       "  <tbody>\n",
       "    <tr>\n",
       "      <th>0</th>\n",
       "      <td>3.745401</td>\n",
       "      <td>56653.043661</td>\n",
       "    </tr>\n",
       "    <tr>\n",
       "      <th>1</th>\n",
       "      <td>9.507143</td>\n",
       "      <td>95054.964696</td>\n",
       "    </tr>\n",
       "    <tr>\n",
       "      <th>2</th>\n",
       "      <td>7.319939</td>\n",
       "      <td>81698.379809</td>\n",
       "    </tr>\n",
       "    <tr>\n",
       "      <th>3</th>\n",
       "      <td>5.986585</td>\n",
       "      <td>61968.249321</td>\n",
       "    </tr>\n",
       "    <tr>\n",
       "      <th>4</th>\n",
       "      <td>1.560186</td>\n",
       "      <td>39822.945392</td>\n",
       "    </tr>\n",
       "  </tbody>\n",
       "</table>\n",
       "</div>"
      ],
      "text/plain": [
       "   YearsExperience        Salary\n",
       "0         3.745401  56653.043661\n",
       "1         9.507143  95054.964696\n",
       "2         7.319939  81698.379809\n",
       "3         5.986585  61968.249321\n",
       "4         1.560186  39822.945392"
      ]
     },
     "execution_count": 4,
     "metadata": {},
     "output_type": "execute_result"
    }
   ],
   "source": [
    "df=pd.read_csv(\"salary.csv\")\n",
    "df.head()"
   ]
  },
  {
   "cell_type": "code",
   "execution_count": 5,
   "metadata": {},
   "outputs": [
    {
     "data": {
      "text/plain": [
       "(array([[3.74540119],\n",
       "        [9.50714306],\n",
       "        [7.31993942],\n",
       "        [5.98658484],\n",
       "        [1.5601864 ],\n",
       "        [1.5599452 ],\n",
       "        [0.58083612],\n",
       "        [8.66176146],\n",
       "        [6.01115012],\n",
       "        [7.08072578],\n",
       "        [0.20584494],\n",
       "        [9.69909852],\n",
       "        [8.32442641],\n",
       "        [2.12339111],\n",
       "        [1.81824967],\n",
       "        [1.8340451 ],\n",
       "        [3.04242243],\n",
       "        [5.24756432],\n",
       "        [4.31945019],\n",
       "        [2.9122914 ],\n",
       "        [6.11852895],\n",
       "        [1.39493861],\n",
       "        [2.92144649],\n",
       "        [3.66361843],\n",
       "        [4.56069984],\n",
       "        [7.85175961],\n",
       "        [1.99673782],\n",
       "        [5.14234438],\n",
       "        [5.92414569],\n",
       "        [0.46450413],\n",
       "        [6.07544852],\n",
       "        [1.70524124],\n",
       "        [0.65051593],\n",
       "        [9.48885537],\n",
       "        [9.65632033],\n",
       "        [8.08397348],\n",
       "        [3.04613769],\n",
       "        [0.97672114],\n",
       "        [6.84233027],\n",
       "        [4.40152494],\n",
       "        [1.22038235],\n",
       "        [4.9517691 ],\n",
       "        [0.34388521],\n",
       "        [9.09320402],\n",
       "        [2.58779982],\n",
       "        [6.62522284],\n",
       "        [3.11711076],\n",
       "        [5.20068021],\n",
       "        [5.46710279],\n",
       "        [1.84854456],\n",
       "        [9.69584628],\n",
       "        [7.75132823],\n",
       "        [9.39498942],\n",
       "        [8.9482735 ],\n",
       "        [5.97899979],\n",
       "        [9.21874235],\n",
       "        [0.88492502],\n",
       "        [1.95982862],\n",
       "        [0.45227289],\n",
       "        [3.25330331],\n",
       "        [3.8867729 ],\n",
       "        [2.71349032],\n",
       "        [8.28737509],\n",
       "        [3.56753327],\n",
       "        [2.8093451 ],\n",
       "        [5.42696083],\n",
       "        [1.40924225],\n",
       "        [8.02196981],\n",
       "        [0.74550644],\n",
       "        [9.86886937],\n",
       "        [7.72244769],\n",
       "        [1.98715682],\n",
       "        [0.05522117],\n",
       "        [8.15461428],\n",
       "        [7.06857344],\n",
       "        [7.29007168],\n",
       "        [7.71270347],\n",
       "        [0.74044652],\n",
       "        [3.58465729],\n",
       "        [1.1586906 ],\n",
       "        [8.63103426],\n",
       "        [6.23298127],\n",
       "        [3.30898025],\n",
       "        [0.6355835 ],\n",
       "        [3.10982322],\n",
       "        [3.25183322],\n",
       "        [7.29606178],\n",
       "        [6.37557471],\n",
       "        [8.87212743],\n",
       "        [4.72214925],\n",
       "        [1.19594246],\n",
       "        [7.13244787],\n",
       "        [7.60785049],\n",
       "        [5.61277198],\n",
       "        [7.7096718 ],\n",
       "        [4.93795596],\n",
       "        [5.22732829],\n",
       "        [4.27541018],\n",
       "        [0.25419127],\n",
       "        [1.07891427]]),\n",
       " array([[ 56653.04366051],\n",
       "        [ 95054.96469636],\n",
       "        [ 81698.37980948],\n",
       "        [ 61968.24932079],\n",
       "        [ 39822.94539178],\n",
       "        [ 42705.17928109],\n",
       "        [ 41455.32307548],\n",
       "        [ 88040.97911288],\n",
       "        [ 68035.58280756],\n",
       "        [ 77056.2952278 ],\n",
       "        [ 36017.92518922],\n",
       "        [ 99537.44519964],\n",
       "        [ 85622.18383719],\n",
       "        [ 47430.07491305],\n",
       "        [ 43213.13545124],\n",
       "        [ 47681.5406424 ],\n",
       "        [ 47786.69153778],\n",
       "        [ 65094.63948127],\n",
       "        [ 58275.61053929],\n",
       "        [ 43068.4650732 ],\n",
       "        [ 74310.30401589],\n",
       "        [ 41069.84660654],\n",
       "        [ 50475.69268068],\n",
       "        [ 54472.39336368],\n",
       "        [ 54848.04518494],\n",
       "        [ 82859.09068368],\n",
       "        [ 42263.59216845],\n",
       "        [ 61985.02434284],\n",
       "        [ 70662.59126201],\n",
       "        [ 35271.78317447],\n",
       "        [ 81959.06913915],\n",
       "        [ 42809.57772227],\n",
       "        [ 35841.36346258],\n",
       "        [ 96049.7580289 ],\n",
       "        [ 88000.38623872],\n",
       "        [ 86455.24499091],\n",
       "        [ 51624.11489184],\n",
       "        [ 49153.25854287],\n",
       "        [ 76934.50703195],\n",
       "        [ 62318.41127344],\n",
       "        [ 38369.11759061],\n",
       "        [ 58818.99351969],\n",
       "        [ 38121.31055064],\n",
       "        [ 97412.09330895],\n",
       "        [ 52069.75844722],\n",
       "        [ 71829.62263081],\n",
       "        [ 58833.74688094],\n",
       "        [ 59395.50616849],\n",
       "        [ 71204.00502303],\n",
       "        [ 53892.09001584],\n",
       "        [ 92918.24231787],\n",
       "        [ 81427.80898726],\n",
       "        [ 96263.18273493],\n",
       "        [ 90120.53625935],\n",
       "        [ 64099.68136145],\n",
       "        [ 94874.01132565],\n",
       "        [ 30882.956575  ],\n",
       "        [ 46086.76252252],\n",
       "        [ 28568.78905257],\n",
       "        [ 60522.79517852],\n",
       "        [ 53291.14381658],\n",
       "        [ 47384.12464314],\n",
       "        [ 92079.21172748],\n",
       "        [ 48818.41128638],\n",
       "        [ 50802.71535114],\n",
       "        [ 74524.43959249],\n",
       "        [ 31827.27957543],\n",
       "        [ 87076.95794544],\n",
       "        [ 36517.95902883],\n",
       "        [102991.19992092],\n",
       "        [ 77872.38029638],\n",
       "        [ 37307.81464197],\n",
       "        [ 32996.25602674],\n",
       "        [ 88567.223358  ],\n",
       "        [ 80732.47832106],\n",
       "        [ 82762.74281035],\n",
       "        [ 80588.80066012],\n",
       "        [ 36344.39410719],\n",
       "        [ 56557.96336459],\n",
       "        [ 34539.07707663],\n",
       "        [ 99746.11236702],\n",
       "        [ 76000.03348249],\n",
       "        [ 47206.34425367],\n",
       "        [ 37731.85256319],\n",
       "        [ 46895.35416896],\n",
       "        [ 56698.25556058],\n",
       "        [ 86865.4103787 ],\n",
       "        [ 70525.61140311],\n",
       "        [ 96921.77262656],\n",
       "        [ 65118.94939602],\n",
       "        [ 42481.89801565],\n",
       "        [ 89411.10001888],\n",
       "        [ 82028.01282317],\n",
       "        [ 65520.72300808],\n",
       "        [ 79520.13044869],\n",
       "        [ 60486.64032068],\n",
       "        [ 66205.78950967],\n",
       "        [ 61633.63115918],\n",
       "        [ 33162.79286874],\n",
       "        [ 41688.31613471]]))"
      ]
     },
     "execution_count": 5,
     "metadata": {},
     "output_type": "execute_result"
    }
   ],
   "source": [
    "X=df[[\"YearsExperience\"]].values.astype(float)\n",
    "Y=df[[\"Salary\"]].values.astype(float)\n",
    "X,Y"
   ]
  },
  {
   "cell_type": "code",
   "execution_count": 6,
   "metadata": {},
   "outputs": [],
   "source": [
    "scalar_x=StandardScaler()\n",
    "scalar_y=StandardScaler()\n",
    "X_sclaed=scalar_x.fit_transform(X)\n",
    "Y_sclaed=scalar_y.fit_transform(Y)"
   ]
  },
  {
   "cell_type": "code",
   "execution_count": 7,
   "metadata": {},
   "outputs": [],
   "source": [
    "X_train,X_test,Y_train,Y_test=train_test_split(X_sclaed,Y_sclaed,test_size=.2,random_state=40)"
   ]
  },
  {
   "cell_type": "code",
   "execution_count": 8,
   "metadata": {},
   "outputs": [],
   "source": [
    "X_train_tensor=torch.from_numpy(X_train).float()\n",
    "Y_train_tensor=torch.from_numpy(Y_train).float()\n",
    "X_test_tensor=torch.from_numpy(X_test).float()\n",
    "Y_test_tensor=torch.from_numpy(Y_test).float()"
   ]
  },
  {
   "cell_type": "code",
   "execution_count": 9,
   "metadata": {},
   "outputs": [],
   "source": [
    "class LinearRegressionModel(nn.Module):\n",
    "    def __init__(self):\n",
    "        super().__init__()\n",
    "        # for more inputs than one map to one output nn.linear(4,1)\n",
    "        # here we have one input and one output\n",
    "        self.lin=nn.Linear(1,1)\n",
    "    def forward(self,x):\n",
    "        return self.lin(x)\n",
    "\n",
    "            "
   ]
  },
  {
   "cell_type": "code",
   "execution_count": 10,
   "metadata": {},
   "outputs": [],
   "source": [
    "model=LinearRegressionModel()\n",
    "loss_fn=nn.MSELoss()\n",
    "optimizer=torch.optim.SGD(model.parameters(),lr=0.01)\n"
   ]
  },
  {
   "cell_type": "code",
   "execution_count": 11,
   "metadata": {},
   "outputs": [
    {
     "name": "stdout",
     "output_type": "stream",
     "text": [
      "Epoch 20/260, Loss: 1.1950\n",
      "Epoch 40/260, Loss: 0.5266\n",
      "Epoch 60/260, Loss: 0.2487\n",
      "Epoch 80/260, Loss: 0.1331\n",
      "Epoch 100/260, Loss: 0.0850\n",
      "Epoch 120/260, Loss: 0.0650\n",
      "Epoch 140/260, Loss: 0.0567\n",
      "Epoch 160/260, Loss: 0.0532\n",
      "Epoch 180/260, Loss: 0.0518\n",
      "Epoch 200/260, Loss: 0.0512\n",
      "Epoch 220/260, Loss: 0.0509\n",
      "Epoch 240/260, Loss: 0.0508\n",
      "Epoch 260/260, Loss: 0.0508\n"
     ]
    }
   ],
   "source": [
    "epochs=260\n",
    "for epoch in range (epochs):\n",
    "    model.train()\n",
    "\n",
    "    y_pred=model(X_train_tensor)\n",
    "\n",
    "    loss=loss_fn(y_pred,Y_train_tensor)\n",
    "\n",
    "    optimizer.zero_grad()\n",
    "\n",
    "    loss.backward()\n",
    "    optimizer.step()\n",
    "    if (epoch+1) % 20 == 0:\n",
    "        print(f\"Epoch {epoch+1}/{epochs}, Loss: {loss.item():.4f}\")"
   ]
  },
  {
   "cell_type": "code",
   "execution_count": 12,
   "metadata": {},
   "outputs": [
    {
     "name": "stdout",
     "output_type": "stream",
     "text": [
      "Test Loss: 0.0380\n"
     ]
    }
   ],
   "source": [
    "model.eval()\n",
    "with torch.inference_mode():\n",
    "    y_test_pred=model(X_test_tensor)\n",
    "    test_loss=loss_fn(y_test_pred,Y_test_tensor)\n",
    "    print(f\"Test Loss: {test_loss.item():.4f}\") "
   ]
  },
  {
   "cell_type": "code",
   "execution_count": 13,
   "metadata": {},
   "outputs": [
    {
     "data": {
      "image/png": "[encoded data removed]",
      "text/plain": [
       "<Figure size 800x500 with 1 Axes>"
      ]
     },
     "metadata": {},
     "output_type": "display_data"
    }
   ],
   "source": [
    "import matplotlib.pyplot as plt\n",
    "\n",
    "# Get predictions on training data\n",
    "model.eval()\n",
    "with torch.no_grad():\n",
    "    y_train_pred = model(X_train_tensor).numpy()\n",
    "\n",
    "# Convert predictions and true values back to original scale\n",
    "y_train_pred_original = scalar_y.inverse_transform(y_train_pred)\n",
    "y_train_actual_original = scalar_y.inverse_transform(Y_train)\n",
    "\n",
    "# Plot\n",
    "plt.figure(figsize=(8,5))\n",
    "plt.scatter(scalar_x.inverse_transform(X_train), y_train_actual_original, color='blue', label='Actual')\n",
    "plt.plot(scalar_x.inverse_transform(X_train), y_train_pred_original, color='red', label='Predicted')\n",
    "plt.xlabel(\"Years of Experience\")\n",
    "plt.ylabel(\"Salary\")\n",
    "plt.title(\"Training Data: Actual vs Predicted Salaries\")\n",
    "plt.legend()\n",
    "plt.grid(True)\n",
    "plt.show()\n"
   ]
  },
  {
   "cell_type": "code",
   "execution_count": 14,
   "metadata": {},
   "outputs": [
    {
     "name": "stdout",
     "output_type": "stream",
     "text": [
      "R-squared score: 0.9574\n"
     ]
    }
   ],
   "source": [
    "from sklearn.metrics import r2_score\n",
    "\n",
    "r2= r2_score(Y_test_tensor.numpy(), y_test_pred.numpy())\n",
    "print(f\"R-squared score: {r2:.4f}\")\n",
    " "
   ]
  }
 ],
 "metadata": {
  "kernelspec": {
   "display_name": "Python 3",
   "language": "python",
   "name": "python3"
  },
  "language_info": {
   "codemirror_mode": {
    "name": "ipython",
    "version": 3
   },
   "file_extension": ".py",
   "mimetype": "text/x-python",
   "name": "python",
   "nbconvert_exporter": "python",
   "pygments_lexer": "ipython3",
   "version": "3.12.7"
  }
 },
 "nbformat": 4,
 "nbformat_minor": 2
}
